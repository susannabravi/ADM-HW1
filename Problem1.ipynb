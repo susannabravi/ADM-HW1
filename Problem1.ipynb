{
 "cells": [
  {
   "cell_type": "markdown",
   "id": "0009c9b2",
   "metadata": {},
   "source": [
    "# HW-1 "
   ]
  },
  {
   "cell_type": "markdown",
   "id": "2412d806",
   "metadata": {},
   "source": [
    "# Problem 1"
   ]
  },
  {
   "cell_type": "markdown",
   "id": "477f6292",
   "metadata": {},
   "source": [
    "Introduction"
   ]
  },
  {
   "cell_type": "code",
   "execution_count": null,
   "id": "dfda6c77",
   "metadata": {},
   "outputs": [],
   "source": [
    "# Say\"Hello, World!\"WithPython_Exercise_1\n",
    "print(\"Hello, World!\")"
   ]
  },
  {
   "cell_type": "code",
   "execution_count": null,
   "id": "1a12e3b2",
   "metadata": {},
   "outputs": [],
   "source": [
    "# If-else_Exercise_2\n",
    "import math\n",
    "import os\n",
    "import random\n",
    "import re\n",
    "import sys\n",
    "if __name__ == '__main__':\n",
    "    n = int(input().strip())\n",
    "    if n%2 == 1:\n",
    "        print(\"Weird\")\n",
    "    else:\n",
    "        if 2 <= n <= 5:\n",
    "            print(\"Not Weird\")\n",
    "        if 6 <= n <= 20:\n",
    "            print(\"Weird\")\n",
    "        if n > 20:\n",
    "            print(\"Not Weird\")"
   ]
  },
  {
   "cell_type": "code",
   "execution_count": null,
   "id": "26007873",
   "metadata": {},
   "outputs": [],
   "source": [
    "# AritmeticOperators_Exercise_3\n",
    "if __name__ == '__main__':\n",
    "    a = int(input())\n",
    "    b = int(input())\n",
    "    print(a+b)\n",
    "    print(a-b)\n",
    "    print(a*b)"
   ]
  },
  {
   "cell_type": "code",
   "execution_count": null,
   "id": "aa370d1a",
   "metadata": {},
   "outputs": [],
   "source": [
    "# Division_Exercise_4\n",
    "if __name__ == '__main__':\n",
    "    a = int(input())\n",
    "    b = int(input())\n",
    "    print(a//b)\n",
    "    print(a/b)"
   ]
  },
  {
   "cell_type": "code",
   "execution_count": null,
   "id": "68a6380a",
   "metadata": {},
   "outputs": [],
   "source": [
    "# Loops_Exercise_5\n",
    "n = int(input())\n",
    "for i in range(n):\n",
    "    print((i**2))"
   ]
  },
  {
   "cell_type": "code",
   "execution_count": null,
   "id": "75e79f35",
   "metadata": {},
   "outputs": [],
   "source": [
    "# WriteAFunction_Exercise_6\n",
    "def is_leap(year):\n",
    "    leap = False\n",
    "    if year % 4 == 0:\n",
    "        leap = True\n",
    "        if year % 100 == 0:\n",
    "            leap = False\n",
    "            if year % 400 == 0:\n",
    "                leap = True\n",
    "    return leap\n",
    "\n",
    "year = int(input())\n",
    "print(is_leap(year))"
   ]
  },
  {
   "cell_type": "code",
   "execution_count": null,
   "id": "ed160dbf",
   "metadata": {},
   "outputs": [],
   "source": [
    "# PrintFunction_Exercise_7\n",
    "if __name__ == '__main__':\n",
    "    n = int(input())\n",
    "    for i in range(n):\n",
    "        print(i+1,sep=\"\",end=\"\")"
   ]
  },
  {
   "cell_type": "markdown",
   "id": "408a5f58",
   "metadata": {},
   "source": [
    "Basic Data Types"
   ]
  },
  {
   "cell_type": "code",
   "execution_count": null,
   "id": "afdf4e6f",
   "metadata": {},
   "outputs": [],
   "source": [
    "# ListComprehensions_Exercise_8\n",
    "if __name__ == '__main__':\n",
    "    x = int(input())\n",
    "    y = int(input())\n",
    "    z = int(input())\n",
    "    n = int(input())\n",
    "    i = [i for i in range(x+1)]\n",
    "    j = [j for j in range(y+1)]\n",
    "    k = [k for k in range(z+1)]\n",
    "    grande = [[m,v,o] for m in i for v in j for o in k if m+v+o != n]\n",
    "    print(grande)"
   ]
  },
  {
   "cell_type": "code",
   "execution_count": null,
   "id": "f5d1a420",
   "metadata": {},
   "outputs": [],
   "source": [
    "# FindtheRunner-UpScore!_Exercise_9\n",
    "if __name__ == '__main__':\n",
    "    n = int(input())\n",
    "    arr = map(int, input().split())\n",
    "    listarr = list(arr)\n",
    "    listarr = list(set(listarr))\n",
    "    listarr.sort(reverse=True)\n",
    "    print(listarr[1])"
   ]
  },
  {
   "cell_type": "code",
   "execution_count": null,
   "id": "406131b4",
   "metadata": {},
   "outputs": [],
   "source": [
    "# Tuples_Exerxise_10\n",
    "if __name__ == '__main__':\n",
    "    n = int(input())\n",
    "    integer_list = map(int, input().split())\n",
    "    lista = list(integer_list)\n",
    "    tup = tuple(lista)\n",
    "    print(hash(tup))"
   ]
  },
  {
   "cell_type": "code",
   "execution_count": null,
   "id": "a9cb24a4",
   "metadata": {},
   "outputs": [],
   "source": [
    "# NestedList_Exerxise_11\n",
    "if __name__ == '__main__':\n",
    "    lista = []\n",
    "    scores = []\n",
    "    for _ in range(int(input())):\n",
    "        name = input()\n",
    "        score = float(input())\n",
    "        listap = []\n",
    "        listap.append(name)\n",
    "        listap.append(score)\n",
    "        lista.append(listap)\n",
    "        scores.append(score)\n",
    "scores = list(set(scores))\n",
    "scores.sort()\n",
    "nomi = []\n",
    "for j in lista:\n",
    "    for i in j:\n",
    "        if i == scores[1]:\n",
    "            nomi.append(j[0])\n",
    "nomi.sort()\n",
    "for i in nomi:\n",
    "    print(i)"
   ]
  },
  {
   "cell_type": "code",
   "execution_count": null,
   "id": "c1f14ec1",
   "metadata": {},
   "outputs": [],
   "source": [
    "# Findingthepercentage_Exercise_12\n",
    "if __name__ == '__main__':\n",
    "    n = int(input())\n",
    "    student_marks = {}\n",
    "    for _ in range(n):\n",
    "        name, *line = input().split()\n",
    "        scores = list(map(float, line))\n",
    "        student_marks[name] = scores\n",
    "    query_name = input()\n",
    "    voti = student_marks.get(query_name)\n",
    "    somma = 0\n",
    "    for i in range(len(voti)):\n",
    "        somma = somma + voti[i]\n",
    "    print(\"{:.2f}\".format(somma/float(len(voti))))"
   ]
  },
  {
   "cell_type": "code",
   "execution_count": null,
   "id": "9cf0dfa1",
   "metadata": {},
   "outputs": [],
   "source": [
    "# List_Exercise_13\n",
    "if __name__ == '__main__':\n",
    "    N = int(input())\n",
    "    listona = []\n",
    "    for _ in range(N):\n",
    "        comando = input().split()\n",
    "        listona.append(comando)\n",
    "    #print(listona)\n",
    "    lista=[]\n",
    "    for i in range(len(listona)):\n",
    "        #print(listona[i])\n",
    "        if listona[i][0] == \"print\":\n",
    "            print(lista)\n",
    "        if listona[i][0] == \"insert\":\n",
    "            lista.insert(int(listona[i][1]),int(listona[i][2]))\n",
    "        if listona[i][0] == \"append\":\n",
    "            lista.append(int(listona[i][1]))\n",
    "        if listona[i][0] == \"remove\":\n",
    "            numero = int(listona[i][1])\n",
    "            lista.remove(numero)\n",
    "        if listona[i][0] == \"reverse\":\n",
    "            lista.reverse()\n",
    "        if listona[i][0] == \"pop\":\n",
    "            lista.pop()\n",
    "        if listona[i][0] == \"sort\":\n",
    "            lista.sort()"
   ]
  },
  {
   "cell_type": "markdown",
   "id": "46885505",
   "metadata": {},
   "source": [
    "Strings"
   ]
  },
  {
   "cell_type": "code",
   "execution_count": null,
   "id": "39e1084a",
   "metadata": {},
   "outputs": [],
   "source": [
    "# sWAPcASE_Exercise_14\n",
    "def swap_case(s):\n",
    "    modified = s.swapcase()\n",
    "    return modified\n",
    "\n",
    "if __name__ == '__main__':"
   ]
  },
  {
   "cell_type": "code",
   "execution_count": null,
   "id": "c2bfefc6",
   "metadata": {},
   "outputs": [],
   "source": [
    "# String Split and Join_Exercise_15\n",
    "def split_and_join(line):\n",
    "    lista = line.split(\" \")\n",
    "    lista = \"-\".join(lista)\n",
    "    return(lista)\n",
    "\n",
    "if __name__ == '__main__':\n",
    "    line = input()\n",
    "    result = split_and_join(line)\n",
    "    print(result)"
   ]
  },
  {
   "cell_type": "code",
   "execution_count": null,
   "id": "f4f03fb0",
   "metadata": {},
   "outputs": [],
   "source": [
    "#What's Your Name?_Exercise_16\n",
    "def print_full_name(first, last):\n",
    "    print(\"Hello \" + first + \" \" + last + \"! You just delved into python.\")\n",
    "\n",
    "if __name__ == '__main__':\n",
    "    first_name = input()\n",
    "    last_name = input()\n",
    "    print_full_name(first_name, last_name)"
   ]
  },
  {
   "cell_type": "code",
   "execution_count": null,
   "id": "f943326b",
   "metadata": {},
   "outputs": [],
   "source": [
    "# Mutations_Exercise_17\n",
    "def mutate_string(string, position, character):\n",
    "    lista = list(string)\n",
    "    lista[position] = character\n",
    "    parola = \"\".join(lista)\n",
    "    return parola\n",
    "\n",
    "if __name__ == '__main__':\n",
    "    s = input()\n",
    "    i, c = input().split()\n",
    "    s_new = mutate_string(s, int(i), c)\n",
    "    print(s_new)"
   ]
  },
  {
   "cell_type": "code",
   "execution_count": null,
   "id": "a6a41f53",
   "metadata": {},
   "outputs": [],
   "source": [
    "# Findastring_Exercise_18\n",
    "def count_substring(string, sub_string):\n",
    "    conta = 0\n",
    "    while sub_string in string:\n",
    "        posizione = string.find(sub_string)\n",
    "        string = string[posizione +1:]\n",
    "        conta = conta + 1\n",
    "    return conta\n",
    "    \n",
    "\n",
    "if __name__ == '__main__':\n",
    "    string = input().strip()\n",
    "    sub_string = input().strip()\n",
    "    \n",
    "    count = count_substring(string, sub_string)\n",
    "    print(count)"
   ]
  },
  {
   "cell_type": "code",
   "execution_count": null,
   "id": "01d116c9",
   "metadata": {},
   "outputs": [],
   "source": [
    "# StringValidators_Exercise_19\n",
    "if __name__ == '__main__':\n",
    "    s = input()\n",
    "    risultati1 = []\n",
    "    risultati2 = []\n",
    "    risultati3 = []\n",
    "    risultati4 = []\n",
    "    risultati5 = []\n",
    "    for i in s:\n",
    "        risultati1.append(i.isalnum())\n",
    "        risultati2.append(i.isalpha())\n",
    "        risultati3.append(i.isnumeric())\n",
    "        risultati4.append(i.islower())\n",
    "        risultati5.append(i.isupper())\n",
    "    if True in risultati1:\n",
    "        print(True)\n",
    "    else:\n",
    "        print(False)\n",
    "    if True in risultati2:\n",
    "        print(True)\n",
    "    else:\n",
    "        print(False)\n",
    "    if True in risultati3:\n",
    "        print(True)\n",
    "    else:\n",
    "        print(False)\n",
    "    if True in risultati4:\n",
    "        print(True)\n",
    "    else:\n",
    "        print(False)\n",
    "    if True in risultati5:\n",
    "        print(True)\n",
    "    else:\n",
    "        print(False)"
   ]
  },
  {
   "cell_type": "code",
   "execution_count": null,
   "id": "71a35d50",
   "metadata": {},
   "outputs": [],
   "source": [
    "# TextAlignment_Exerxise_20\n",
    "#Replace all ______ with rjust, ljust or center. \n",
    "\n",
    "thickness = int(input()) #This must be an odd number\n",
    "c = 'H'\n",
    "\n",
    "#Top Cone\n",
    "for i in range(thickness):\n",
    "    print((c*i).rjust(thickness-1)+c+(c*i).ljust(thickness-1))\n",
    "\n",
    "#Top Pillars\n",
    "for i in range(thickness+1):\n",
    "    print((c*thickness).center(thickness*2)+(c*thickness).center(thickness*6))\n",
    "\n",
    "#Middle Belt\n",
    "for i in range((thickness+1)//2):\n",
    "    print((c*thickness*5).center(thickness*6))    \n",
    "\n",
    "#Bottom Pillars\n",
    "for i in range(thickness+1):\n",
    "    print((c*thickness).center(thickness*2)+(c*thickness).center(thickness*6))    \n",
    "\n",
    "#Bottom Cone\n",
    "for i in range(thickness):\n",
    "    print(((c*(thickness-i-1)).rjust(thickness)+c+(c*(thickness-i-1)).ljust(thickness)).rjust(thickness*6))"
   ]
  },
  {
   "cell_type": "code",
   "execution_count": null,
   "id": "617edb04",
   "metadata": {},
   "outputs": [],
   "source": [
    "# TextWrap_Exercise_21\n",
    "import textwrap\n",
    "\n",
    "def wrap(string, max_width):\n",
    "    wrappato = textwrap.wrap(string,max_width)\n",
    "    risultato = \"\"\n",
    "    for i in wrappato:\n",
    "        risultato = risultato + i + \"\\n\" \n",
    "    return risultato\n",
    "        \n",
    "\n",
    "if __name__ == '__main__':\n",
    "    string, max_width = input(), int(input())\n",
    "    result = wrap(string, max_width)\n",
    "    print(result)"
   ]
  },
  {
   "cell_type": "code",
   "execution_count": null,
   "id": "4ba1378b",
   "metadata": {},
   "outputs": [],
   "source": [
    "# DesignerDoorMat_Esercise_22\n",
    "dati = input().split()\n",
    "N = int(dati[0])\n",
    "M = int(dati[1])\n",
    "c=\".|.\"\n",
    "w = \"WELCOME\"\n",
    "for i in range(N//2):\n",
    "    print((c*i).rjust(M//2 -1 , \"-\")+c+(c*i).ljust(M//2 - 1, \"-\"))\n",
    "print(w.center(M, \"-\"))\n",
    "for i in range(N//2 - 1, -1 ,-1):\n",
    "    print((c*i).rjust(M//2 - 1, \"-\")+c+(c*i).ljust(M//2 - 1, \"-\"))"
   ]
  },
  {
   "cell_type": "code",
   "execution_count": null,
   "id": "dbb5d7e2",
   "metadata": {},
   "outputs": [],
   "source": [
    "# StringFormatting_Exercise_23\n",
    "def print_formatted(number):\n",
    "    lunghezza = number.bit_length()\n",
    "    for i in range(1, number+1):\n",
    "        print(str(i).rjust(lunghezza)+ \" \" + (str(oct(i)).replace(\"0o\", \"\")).rjust(lunghezza) + \" \" + (str(hex(i)).replace(\"0x\", \"\")).upper().rjust(lunghezza) + \" \" + str(bin(i)).replace(\"0b\", \"\").rjust(lunghezza))"
   ]
  },
  {
   "cell_type": "code",
   "execution_count": null,
   "id": "a8657a23",
   "metadata": {},
   "outputs": [],
   "source": [
    "# AlpahbetRangoli_Exercise_24\n",
    "def print_rangoli(size):\n",
    "    #preparo le lettere\n",
    "    alfabeto = \"abcdefghijklmnopqrstuvwxyz\"\n",
    "    #meta sopra\n",
    "    for i in range(1,size+1):\n",
    "        mettere = \"\"\n",
    "        #scorro le lettere\n",
    "        for j in range(i):\n",
    "            l = alfabeto[size-i+j]\n",
    "            mettere = mettere.center((2*j+1),l)\n",
    "        ltrattino = \"-\".join(mettere)\n",
    "        print(ltrattino.center((4*size)-3,\"-\"))\n",
    "    #meta sotto\n",
    "    for i in range(size - 1, 0, -1):\n",
    "        mettere = \"\"\n",
    "        #scorro le lettere al contrario\n",
    "        for j in range(i):\n",
    "            l = alfabeto[size-i+j]\n",
    "            mettere = mettere.center((2*j+1),l)\n",
    "        ltrattino = \"-\".join(mettere)\n",
    "        print(ltrattino.center((4*size)-3,\"-\"))"
   ]
  },
  {
   "cell_type": "code",
   "execution_count": null,
   "id": "bd14a1e5",
   "metadata": {},
   "outputs": [],
   "source": [
    "# Capitalize_exercise_25\n",
    "import math\n",
    "import os\n",
    "import random\n",
    "import re\n",
    "import sys\n",
    "\n",
    "# Complete the solve function below.\n",
    "def solve(s):\n",
    "    return \" \".join([grande.capitalize() for grande in s.split(\" \")])\n",
    "\n",
    "if __name__ == '__main__':\n",
    "    fptr = open(os.environ['OUTPUT_PATH'], 'w')\n",
    "\n",
    "    s = input()\n",
    "\n",
    "    result = solve(s)\n",
    "\n",
    "    fptr.write(result + '\\n')\n",
    "\n",
    "    fptr.close()"
   ]
  },
  {
   "cell_type": "code",
   "execution_count": null,
   "id": "5260ba0f",
   "metadata": {},
   "outputs": [],
   "source": [
    "# MinionGame_Exercise_26\n",
    "def minion_game(string):\n",
    "    vocali = \"AEIOU\"\n",
    "    stuart = 0\n",
    "    kevin = 0\n",
    "    x = len(string)\n",
    "    for i in range(len(string)):\n",
    "        if string[i] in vocali:\n",
    "            kevin += x - i\n",
    "        else:\n",
    "            stuart += x -i\n",
    "    if stuart > kevin:\n",
    "        print(\"Stuart\",str(stuart))\n",
    "    elif kevin > stuart:\n",
    "        print(\"Kevin\",str(kevin))\n",
    "    else:\n",
    "        print(\"Draw\")\n",
    "\n",
    "if __name__ == '__main__':\n",
    "    s = input()\n",
    "    minion_game(s)\n",
    "\n",
    "# Solved looking at the HackerRank solution"
   ]
  },
  {
   "cell_type": "code",
   "execution_count": null,
   "id": "89e026dc",
   "metadata": {},
   "outputs": [],
   "source": [
    "# Merge the tools_Exerxise_27\n",
    "def merge_the_tools(string, k):\n",
    "    import textwrap\n",
    "    # splitting the string according to find the ti\n",
    "    ti = textwrap.wrap(string,k)\n",
    "    listaui = []\n",
    "    for i in ti:\n",
    "        ui = \"\"\n",
    "        for j in i:\n",
    "            if j not in ui:\n",
    "                ui = ui + j\n",
    "        listaui.append(ui)\n",
    "    for i in listaui:\n",
    "        print(i)\n",
    "\n",
    "if __name__ == '__main__':\n",
    "    string, k = input(), int(input())\n",
    "    merge_the_tools(string, k)"
   ]
  },
  {
   "cell_type": "markdown",
   "id": "fa4a5c69",
   "metadata": {},
   "source": [
    "Sets"
   ]
  },
  {
   "cell_type": "code",
   "execution_count": null,
   "id": "98b86fb9",
   "metadata": {},
   "outputs": [],
   "source": [
    "# IntroductiontoSets_Exercise_28\n",
    "def average(array):\n",
    "    sommare = set(array)\n",
    "    divisore = len(sommare)\n",
    "    somma = 0\n",
    "    for i in sommare:\n",
    "        somma = somma + i\n",
    "    return somma / divisore\n",
    "        \n",
    "\n",
    "if __name__ == '__main__':\n",
    "    n = int(input())\n",
    "    arr = list(map(int, input().split()))\n",
    "    result = average(arr)\n",
    "    print(result)"
   ]
  },
  {
   "cell_type": "code",
   "execution_count": null,
   "id": "e64f6875",
   "metadata": {},
   "outputs": [],
   "source": [
    "# SymmetricDifference_Exercise_29\n",
    "Nlen = int(input())\n",
    "N = input().split()\n",
    "Mlen = int(input())\n",
    "M = input().split()\n",
    "N = set(N)\n",
    "M = set(M)\n",
    "listona = []\n",
    "for i in N:\n",
    "    if i not in M:\n",
    "        listona.append(int(i))\n",
    "for i in M:\n",
    "    if i not in N:\n",
    "        listona.append(int(i))\n",
    "listona.sort()\n",
    "for i in listona:\n",
    "    print(i)"
   ]
  },
  {
   "cell_type": "code",
   "execution_count": null,
   "id": "04cb21b9",
   "metadata": {},
   "outputs": [],
   "source": [
    "# NoIdea!_Exercise_30\n",
    "lunghezze = input().split()\n",
    "array = input().split()\n",
    "A = set(input().split())\n",
    "B = set(input().split())\n",
    "felicita = 0\n",
    "for i in array:\n",
    "    if i in A:\n",
    "        felicita += 1\n",
    "    if i in B:\n",
    "        felicita -= 1\n",
    "print(felicita)"
   ]
  },
  {
   "cell_type": "code",
   "execution_count": null,
   "id": "ca4e6604",
   "metadata": {},
   "outputs": [],
   "source": [
    "# Set.add()_Exercise_31\n",
    "numero = int(input())\n",
    "tutti = set()\n",
    "for _ in range(numero):\n",
    "    country = str(input().split())\n",
    "    tutti.add(country)\n",
    "print(len(tutti))\n"
   ]
  },
  {
   "cell_type": "code",
   "execution_count": null,
   "id": "abf58d0d",
   "metadata": {},
   "outputs": [],
   "source": [
    "# Set.discard(),.remove()&.pop()_Exercise_32\n",
    "n = int(input())\n",
    "s = set(map(int, input().split()))\n",
    "N = int(input())\n",
    "for _ in range(N):\n",
    "    comando = input().split()\n",
    "    if comando[0] == \"pop\":\n",
    "        s.pop()\n",
    "    if comando[0] == \"remove\" and int(comando[1]) in s:\n",
    "        s.remove(int(comando[1]))\n",
    "    if comando[0] == \"discard\":\n",
    "        s.discard(int(comando[1]))\n",
    "        \n",
    "somma = 0\n",
    "for i in s:\n",
    "    somma += i\n",
    "print(somma)"
   ]
  },
  {
   "cell_type": "code",
   "execution_count": null,
   "id": "14275d74",
   "metadata": {},
   "outputs": [],
   "source": [
    "# Set.union()Operation_Exercise_33\n",
    "n = int(input())\n",
    "english = set(map(int,input().split()))\n",
    "b = int(input())\n",
    "french = set(map(int,input().split()))\n",
    "total = english.union(french)\n",
    "print(len(total))"
   ]
  },
  {
   "cell_type": "code",
   "execution_count": null,
   "id": "148691a4",
   "metadata": {},
   "outputs": [],
   "source": [
    "# Set.intersection()Operation_Exercise_34\n",
    "n = int(input())\n",
    "english = set(map(int,input().split()))\n",
    "b = int(input())\n",
    "french = set(map(int,input().split()))\n",
    "total = english.intersection(french)\n",
    "print(len(total))"
   ]
  },
  {
   "cell_type": "code",
   "execution_count": null,
   "id": "68173dec",
   "metadata": {},
   "outputs": [],
   "source": [
    "# Set.difference()Operation_Exercise_35\n",
    "n = int(input())\n",
    "english = set(map(int,input().split()))\n",
    "b = int(input())\n",
    "french = set(map(int,input().split()))\n",
    "onlyenglish = english.difference(french)\n",
    "print(len(onlyenglish))\n"
   ]
  },
  {
   "cell_type": "code",
   "execution_count": null,
   "id": "307dfd9b",
   "metadata": {},
   "outputs": [],
   "source": [
    "# Set.symmetric_difference()Operation_Exercise_36\n",
    "n = int(input())\n",
    "english = set(map(int,input().split()))\n",
    "b = int(input())\n",
    "french = set(map(int,input().split()))\n",
    "notboth = english.symmetric_difference(french)\n",
    "print(len(notboth))\n"
   ]
  },
  {
   "cell_type": "code",
   "execution_count": null,
   "id": "1e19bf19",
   "metadata": {},
   "outputs": [],
   "source": [
    "# SetMutations_Exercise_37\n",
    "lenA = input()\n",
    "A = set(map(int, input().split()))\n",
    "N = int(input())\n",
    "somma = 0\n",
    "for _ in range(N):\n",
    "    comando = input().split()\n",
    "    nuovoset = set(map(int, input().split()))\n",
    "    if comando[0] == \"intersection_update\":\n",
    "        A.intersection_update(nuovoset)\n",
    "    if comando[0] == \"update\":\n",
    "        A.update(nuovoset)\n",
    "    if comando[0] == \"difference_update\":\n",
    "        A.difference_update(nuovoset)\n",
    "    if comando[0] == \"symmetric_difference_update\":\n",
    "        A.symmetric_difference_update(nuovoset)\n",
    "\n",
    "for i in A:\n",
    "    somma += i\n",
    "print(somma)"
   ]
  },
  {
   "cell_type": "code",
   "execution_count": null,
   "id": "0118d1a2",
   "metadata": {},
   "outputs": [],
   "source": [
    "# TheCaptain'sRoom_Exercise_38\n",
    "K = int(input())\n",
    "elements = list(map(int, input().split()))\n",
    "ricorrenze = set(\"\")\n",
    "duplicati = set(\"\")\n",
    "for i in elements:\n",
    "    if i not in ricorrenze:\n",
    "        ricorrenze.add(i)\n",
    "    else:\n",
    "        duplicati.add(i)\n",
    "differenze = ricorrenze.difference(duplicati)\n",
    "a = list(differenze)\n",
    "print(a[0])"
   ]
  },
  {
   "cell_type": "code",
   "execution_count": null,
   "id": "37da903a",
   "metadata": {},
   "outputs": [],
   "source": [
    "# CheckSubset_Exercise_39\n",
    "T = int(input())\n",
    "for _ in range(T):\n",
    "    lenA = int(input())\n",
    "    A = set(map(int, input().split()))\n",
    "    lenB = int(input())\n",
    "    B = set(map(int, input().split()))\n",
    "    if A.intersection(B) == A:\n",
    "        print(True)\n",
    "    else:\n",
    "        print(False)"
   ]
  },
  {
   "cell_type": "code",
   "execution_count": null,
   "id": "e2e71232",
   "metadata": {},
   "outputs": [],
   "source": [
    "# CheckStrictSuperset_Exercise_40\n",
    "A = set(map(int, input().split()))\n",
    "N = int(input())\n",
    "risultati = []\n",
    "for _ in range(N):\n",
    "    nuovoset = set(map(int, input().split()))\n",
    "    if nuovoset.intersection(A) == nuovoset and len(nuovoset) >= len(nuovoset.intersection(A)):\n",
    "        risultati.append(True)\n",
    "    else:\n",
    "        risultati.append(False)\n",
    "if False in risultati:\n",
    "    print(False)\n",
    "else:\n",
    "    print(True)"
   ]
  },
  {
   "cell_type": "markdown",
   "id": "cb446817",
   "metadata": {},
   "source": [
    "Collections"
   ]
  },
  {
   "cell_type": "code",
   "execution_count": null,
   "id": "c4ffdb39",
   "metadata": {},
   "outputs": [],
   "source": [
    "# collections.Counter()_Exercise_41\n",
    "from collections import Counter\n",
    "X = int(input())\n",
    "sizes = Counter(map(int, input().split()))\n",
    "N = int(input())\n",
    "money = 0\n",
    "for _ in range(N):\n",
    "    customer = list(map(int, input().split()))\n",
    "    if sizes[customer[0]]:\n",
    "        money = money + customer[1]\n",
    "        sizes[customer[0]] -= 1\n",
    "\n",
    "print(money)"
   ]
  },
  {
   "cell_type": "code",
   "execution_count": null,
   "id": "b10b12ad",
   "metadata": {},
   "outputs": [],
   "source": [
    "# DefaultDictTutorial_Exercise_42\n",
    "from collections import defaultdict\n",
    "n, m = map(int, input().split())\n",
    "d = defaultdict(list)\n",
    "# Creo A\n",
    "for i in range(n):\n",
    "    d[input()].append(i +1)\n",
    "# Controllo B\n",
    "for j in range(m):\n",
    "    b = input()\n",
    "    if b in d:\n",
    "        print(*d[b])\n",
    "    else:\n",
    "        print(-1)"
   ]
  },
  {
   "cell_type": "code",
   "execution_count": null,
   "id": "d923a815",
   "metadata": {},
   "outputs": [],
   "source": [
    "# Collections.namedtuple()_Exercise_43\n",
    "from collections import namedtuple\n",
    "N = int(input())\n",
    "voti = namedtuple(\"Student\", input())\n",
    "totale = 0\n",
    "for _ in range(N):\n",
    "    persone = voti(*input().split())\n",
    "    totale += int(persone.MARKS)\n",
    "print(totale/N)\n"
   ]
  },
  {
   "cell_type": "code",
   "execution_count": null,
   "id": "6db9da7e",
   "metadata": {},
   "outputs": [],
   "source": [
    "# Collections.OrderedDict_Exercise_44\n",
    "from collections import OrderedDict\n",
    "N = int(input())\n",
    "entries = OrderedDict()\n",
    "for _ in range(N):\n",
    "    item, space, price = input().rpartition(\" \")\n",
    "    entries[item] = entries.get(item, 0) + int(price)\n",
    "for i, p in entries.items():\n",
    "    print(i,p)\n"
   ]
  },
  {
   "cell_type": "code",
   "execution_count": null,
   "id": "dd1d4452",
   "metadata": {},
   "outputs": [],
   "source": [
    "# WordOrder_Exercise_45\n",
    "from collections import OrderedDict\n",
    "n = int(input())\n",
    "entries = OrderedDict()\n",
    "times = 1\n",
    "for _ in range(n):\n",
    "    word = str(input())\n",
    "    if word in entries:\n",
    "        entries[word] = entries.get(word, 0) + 1\n",
    "    else:\n",
    "        entries[word] = entries.get(word, 0) + times\n",
    "print(len(entries.keys()))\n",
    "for w, t in entries.items():\n",
    "    print(t, end=\" \")\n"
   ]
  },
  {
   "cell_type": "code",
   "execution_count": null,
   "id": "7c4d2aa4",
   "metadata": {},
   "outputs": [],
   "source": [
    "# Collections.deque()_Exercise_46\n",
    "from collections import deque\n",
    "N = int(input())\n",
    "d = deque()\n",
    "for _ in range(N):\n",
    "    comando = input().split()\n",
    "    if comando[0] == \"append\":\n",
    "        numero = comando[1]\n",
    "        d.append(numero)\n",
    "    if comando[0] == \"appendleft\":\n",
    "        numero = comando[1]\n",
    "        d.appendleft(numero)\n",
    "    if comando[0] == \"pop\":\n",
    "        d.pop()\n",
    "    if comando[0] == \"popleft\":\n",
    "        d.popleft()\n",
    "for i in d:\n",
    "    print(*i, end=\" \")\n"
   ]
  },
  {
   "cell_type": "code",
   "execution_count": null,
   "id": "36ee4b0d",
   "metadata": {},
   "outputs": [],
   "source": [
    "# CompanyLogo_Exercise_47\n",
    "from collections import Counter\n",
    "s = sorted(input())\n",
    "diviso = []\n",
    "for i in s:\n",
    "    diviso.append(i)\n",
    "occorrenze = Counter(diviso)\n",
    "for c in occorrenze.most_common(3):\n",
    "    print(*c)"
   ]
  },
  {
   "cell_type": "code",
   "execution_count": null,
   "id": "b86bc0bb",
   "metadata": {},
   "outputs": [],
   "source": [
    "# PilingUp!_Exercise_48\n",
    "from collections import deque\n",
    "T = int(input())\n",
    "for _ in range(T):\n",
    "    lend = int(input())\n",
    "    d = deque(map(int, input().split()))\n",
    "    vertical = -999999\n",
    "    for _ in range(lend):\n",
    "        sx, dx = d[0], d[-1]\n",
    "        if sx >= dx:\n",
    "            if vertical >= sx or vertical == -999999:\n",
    "                vertical = sx\n",
    "                d.popleft()\n",
    "        else:\n",
    "            if vertical >= dx or vertical == -999999:\n",
    "                vertical = dx\n",
    "                d.pop()\n",
    "    if len(d) == 0:\n",
    "        print(\"Yes\")\n",
    "    else:\n",
    "        print(\"No\")"
   ]
  },
  {
   "cell_type": "markdown",
   "id": "3addb1ca",
   "metadata": {},
   "source": [
    "Date and Time"
   ]
  },
  {
   "cell_type": "code",
   "execution_count": null,
   "id": "c87b81e6",
   "metadata": {},
   "outputs": [],
   "source": [
    "# CalendarModule_Exercise_49\n",
    "import calendar\n",
    "data = input().split()\n",
    "day = calendar.weekday(int(data[2]), int(data[0]), int(data[1]))\n",
    "if day == 0:\n",
    "    print(\"MONDAY\")\n",
    "elif day == 1:\n",
    "    print(\"TUESDAY\")\n",
    "elif day == 2:\n",
    "    print(\"WEDNESDAY\")\n",
    "elif day == 3:\n",
    "    print(\"THURSDAY\")\n",
    "elif day == 4:\n",
    "    print(\"FRIDAY\")\n",
    "elif day == 5:\n",
    "    print(\"SATURDAY\")\n",
    "else:\n",
    "    print(\"SUNDAY\")"
   ]
  },
  {
   "cell_type": "code",
   "execution_count": null,
   "id": "5a03c00c",
   "metadata": {},
   "outputs": [],
   "source": [
    "# TimeDelta_Exercise_50\n",
    "import math\n",
    "import os\n",
    "import random\n",
    "import re\n",
    "import sys\n",
    "from datetime import datetime\n",
    "\n",
    "# Complete the time_delta function below.\n",
    "def time_delta(t1, t2):\n",
    "    tempo1 = datetime.strptime(t1,'%a %d %b %Y %H:%M:%S %z')\n",
    "    tempo2 = datetime.strptime(t2,'%a %d %b %Y %H:%M:%S %z')\n",
    "    return str(abs(int((tempo1-tempo2).total_seconds())))\n",
    "\n",
    "if __name__ == '__main__':\n",
    "    fptr = open(os.environ['OUTPUT_PATH'], 'w')\n",
    "\n",
    "    t = int(input())\n",
    "\n",
    "    for t_itr in range(t):\n",
    "        t1 = input()\n",
    "\n",
    "        t2 = input()\n",
    "\n",
    "        delta = time_delta(t1, t2)\n",
    "\n",
    "        fptr.write(delta + '\\n')\n",
    "\n",
    "    fptr.close()\n",
    "\n",
    "# I've looked online to find the right library I needed"
   ]
  },
  {
   "cell_type": "markdown",
   "id": "e0849319",
   "metadata": {},
   "source": [
    "Exceptions"
   ]
  },
  {
   "cell_type": "code",
   "execution_count": null,
   "id": "0716193c",
   "metadata": {},
   "outputs": [],
   "source": [
    "# Exceptions_Exercise_51\n",
    "T = int(input())\n",
    "for _ in range(T):\n",
    "    dati = input().split()\n",
    "    a = dati[0]\n",
    "    b = dati[1]\n",
    "    try:\n",
    "        divisione = int(a)//int(b)\n",
    "        print(divisione)\n",
    "    except ZeroDivisionError as e:\n",
    "        print(\"Error Code:\", e)\n",
    "    except ValueError as v:\n",
    "        print(\"Error Code:\", v)"
   ]
  },
  {
   "cell_type": "markdown",
   "id": "df324eab",
   "metadata": {},
   "source": [
    "Built-ins"
   ]
  },
  {
   "cell_type": "code",
   "execution_count": null,
   "id": "1aef80d0",
   "metadata": {},
   "outputs": [],
   "source": [
    "# Zipped!_Exercise_52\n",
    "N, X = map(int, input().split())\n",
    "voti = [list(map(float, input().split())) for i in range(X)]\n",
    "sistemato = zip(*voti)\n",
    "for i in sistemato:\n",
    "    print((sum(i)/X))"
   ]
  },
  {
   "cell_type": "code",
   "execution_count": null,
   "id": "e53b5feb",
   "metadata": {},
   "outputs": [],
   "source": [
    "# AthleteSort_Exercise_53\n",
    "nm = input().split()\n",
    "n = int(nm[0])\n",
    "m = int(nm[1])\n",
    "arr = []\n",
    "for _ in range(n):\n",
    "    arr.append(list(map(int, input().rstrip().split())))\n",
    "k = int(input())\n",
    "sistemato = sorted(arr, key=lambda riga: riga[k])\n",
    "for i in range(len(sistemato)):\n",
    "    for j in range(len(sistemato[i])):\n",
    "        print(sistemato[i][j], end=' ')\n",
    "    print()"
   ]
  },
  {
   "cell_type": "code",
   "execution_count": null,
   "id": "d688a157",
   "metadata": {},
   "outputs": [],
   "source": [
    "# ginortS_Exercise_54\n",
    "S = input()\n",
    "lowercase = []\n",
    "uppercase = []\n",
    "digitodd = []\n",
    "digiteven = []\n",
    "for i in S:\n",
    "    if i.isupper():\n",
    "        uppercase.append(i)\n",
    "    if i.islower():\n",
    "        lowercase.append(i)\n",
    "    if i.isdigit() and (int(i)% 2 == 1):\n",
    "        digitodd.append(i)\n",
    "    if i.isdigit() and (int(i)% 2 == 0):\n",
    "        digiteven.append(i)\n",
    "lowercase.sort()\n",
    "uppercase.sort()\n",
    "digitodd.sort()\n",
    "digiteven.sort()\n",
    "print(*lowercase, *uppercase, *digitodd, *digiteven, sep=\"\")\n"
   ]
  },
  {
   "cell_type": "markdown",
   "id": "a3ae65e5",
   "metadata": {},
   "source": [
    "Python Functionals"
   ]
  },
  {
   "cell_type": "code",
   "execution_count": null,
   "id": "2a21ae5e",
   "metadata": {},
   "outputs": [],
   "source": [
    "# Map and Lambda Function_Exercise_55\n",
    "cube = lambda x: x**3\n",
    "\n",
    "def fibonacci(n):\n",
    "    result = []\n",
    "    a, b = 0, 1\n",
    "    for i in range(n):\n",
    "        result.append(a)\n",
    "        a, b = b, a+b\n",
    "    return result\n",
    "\n",
    "if __name__ == '__main__':\n",
    "    n = int(input())\n",
    "    print(list(map(cube, fibonacci(n))))"
   ]
  },
  {
   "cell_type": "markdown",
   "id": "9e708c14",
   "metadata": {},
   "source": [
    "Regex and Parsing Functions"
   ]
  },
  {
   "cell_type": "code",
   "execution_count": null,
   "id": "0688944a",
   "metadata": {},
   "outputs": [],
   "source": [
    "# Some troubles with the Regex, searched online to find out how they works, the different rules, and sometimes used an online compiler to check if my Regex was right... :("
   ]
  },
  {
   "cell_type": "code",
   "execution_count": null,
   "id": "73da0da4",
   "metadata": {},
   "outputs": [],
   "source": [
    "# DetectFloatingPointNumber_Exercise_56\n",
    "import re\n",
    "T = int(input())\n",
    "for _ in range(T):\n",
    "    numero = input()\n",
    "    if re.search(\"^[+-]?[0-9]*\\.[0-9]+$\", numero):\n",
    "        print(True)\n",
    "    else:\n",
    "        print(False)"
   ]
  },
  {
   "cell_type": "code",
   "execution_count": null,
   "id": "40e1ddda",
   "metadata": {},
   "outputs": [],
   "source": [
    "# Re.split()_Exercise_57\n",
    "regex_pattern = r\"[,.]\"\t# Do not delete 'r'.\n",
    "import re\n",
    "print(\"\\n\".join(re.split(regex_pattern, input())))"
   ]
  },
  {
   "cell_type": "code",
   "execution_count": null,
   "id": "9d669413",
   "metadata": {},
   "outputs": [],
   "source": [
    "# Group(),Groups()&Groupdict()_Exercise_58\n",
    "S = input()\n",
    "import re\n",
    "pattern = re.compile(r'([a-zA-Z0-9])\\1')\n",
    "repeating = re.search(pattern, S)\n",
    "if repeating:\n",
    "    print(repeating.group(1))\n",
    "else:\n",
    "    print(-1)"
   ]
  },
  {
   "cell_type": "code",
   "execution_count": null,
   "id": "6714f45d",
   "metadata": {},
   "outputs": [],
   "source": [
    "# Re.findall()&Re.finditer()_Exercise_59\n",
    "import re\n",
    "S = input()\n",
    "k = input()\n",
    "if re.search(f'(?=({k}))', S):\n",
    "    for i in re.finditer(f'(?=({k}))', S):\n",
    "        fine = i.start() + len(k) -1\n",
    "        print((i.start(), fine))\n",
    "else:\n",
    "    print((-1, -1))"
   ]
  },
  {
   "cell_type": "code",
   "execution_count": null,
   "id": "9c2ab1a0",
   "metadata": {},
   "outputs": [],
   "source": [
    "# re.start() & re.end()_exercise_60\n",
    "import re\n",
    "S = input()\n",
    "k = input()\n",
    "if re.search(f'(?=({k}))', S):\n",
    "    for i in re.finditer(f'(?=({k}))', S):\n",
    "        fine = i.start() + len(k) -1\n",
    "        print((i.start(), fine))\n",
    "else:\n",
    "    print((-1, -1))"
   ]
  },
  {
   "cell_type": "code",
   "execution_count": null,
   "id": "611dfe1b",
   "metadata": {},
   "outputs": [],
   "source": [
    "# RegexSubstitution_Exercise_61\n",
    "import re\n",
    "def sub_symbol(s):\n",
    "    if s.group(0) == '&&':\n",
    "        return 'and'\n",
    "    elif s.group(0) == '||':\n",
    "        return 'or'\n",
    "    \n",
    "n = int(input())\n",
    "for i in range(n):\n",
    "    l = input()\n",
    "    if l == \"\":\n",
    "        print(\"\")    \n",
    "    else:    \n",
    "        x = re.sub(r'(?<= )(&&|\\|\\|)(?= )', sub_symbol, l)\n",
    "        print(x)"
   ]
  },
  {
   "cell_type": "code",
   "execution_count": null,
   "id": "357bc768",
   "metadata": {},
   "outputs": [],
   "source": [
    "# ValidatingRomanNumbers_Exercise_62\n",
    "regex_pattern = r\"([M]{0,3})(D?C{0,3}|C[MD])(L?X{0,3}|X[CL])(V?I{0,3}|I[XV])$\" \n",
    "\n",
    "import re\n",
    "print(str(bool(re.match(regex_pattern, input()))))"
   ]
  },
  {
   "cell_type": "code",
   "execution_count": null,
   "id": "83b8b09c",
   "metadata": {},
   "outputs": [],
   "source": [
    "# ValidatingPhoneNumbers_Exercise_63\n",
    "import re\n",
    "\n",
    "n = int(input())\n",
    "for i in range(n):\n",
    "    phone = input()\n",
    "    if re.search(r'[a-zA-Z]', phone):\n",
    "        print('NO')\n",
    "    elif re.search(r\"^[789]\", phone) and len(phone) == 10:\n",
    "        print('YES')\n",
    "    else:\n",
    "        print('NO')"
   ]
  },
  {
   "cell_type": "code",
   "execution_count": null,
   "id": "1646f7c3",
   "metadata": {},
   "outputs": [],
   "source": [
    "# ValidatingandParsingEmailAddresses_Exercise_64\n",
    "import re\n",
    "\n",
    "n = int(input())\n",
    "\n",
    "for i in range(n):\n",
    "    name, mail = input().split()\n",
    "    if re.match(r'<[a-zA-Z][A-Za-z0-9_.+-]+@[A-Za-z]+\\.[A-Za-z]{1,3}>', mail):\n",
    "        print(name, mail)"
   ]
  },
  {
   "cell_type": "code",
   "execution_count": null,
   "id": "2d2bf70c",
   "metadata": {},
   "outputs": [],
   "source": [
    "# HexColorCode_Exercise_65\n",
    "import re\n",
    "N = int(input())\n",
    "\n",
    "for i in range(N):\n",
    "    hex = input()\n",
    "    patt = re.findall(r'(#[0-9a-fA-F]{3,6})(?=[,;\\)])', hex)\n",
    "    if patt:\n",
    "        print(*patt, sep=\"\\n\")"
   ]
  },
  {
   "cell_type": "code",
   "execution_count": null,
   "id": "6d6d5011",
   "metadata": {},
   "outputs": [],
   "source": [
    "# HTMLParser-Part1_Exercise_66\n",
    "from html.parser import HTMLParser #searched online the library because from the example was not working in my code\n",
    "\n",
    "\n",
    "class MyHTMLParser(HTMLParser):\n",
    "    def handle_starttag(self, tag, attributes):\n",
    "        print('Start', ':', tag)\n",
    "        for x in attributes:\n",
    "            print('->', x[0], '>', x[1])\n",
    "            \n",
    "    def handle_endtag(self, tag):\n",
    "        print('End   :', tag)\n",
    "        \n",
    "    def handle_startendtag(self, tag, attributes):\n",
    "        print('Empty', ':', tag)\n",
    "        for y in attributes:\n",
    "            print('->', y[0], '>', y[1])\n",
    "            \n",
    "# instantiate the parser and fed it some HTML\n",
    "parser = MyHTMLParser()\n",
    "\n",
    "n = int(input())\n",
    "l = []\n",
    "for i in range(n):\n",
    "    l.append(input())\n",
    "    \n",
    "parser.feed(''.join(l)) "
   ]
  },
  {
   "cell_type": "code",
   "execution_count": null,
   "id": "bcf16e6c",
   "metadata": {},
   "outputs": [],
   "source": [
    "# HTMLParser-Part2_Exercise_67\n",
    "from html.parser import HTMLParser\n",
    "\n",
    "class MyHTMLParser(HTMLParser):\n",
    "    def handle_comment(self, data):\n",
    "        if '\\n' in data:  \n",
    "            print('>>> Multi-line Comment', data, sep = '\\n') \n",
    "        else:\n",
    "            print('>>> Single-line Comment', data, sep = '\\n')     \n",
    "    def handle_data(self, data):\n",
    "        if not '\\n' in data:   \n",
    "            print('>>> Data', data, sep = '\\n')   \n",
    "        \n",
    "\n",
    "html = \"\"       \n",
    "for i in range(int(input())):\n",
    "    html += input().rstrip()\n",
    "    html += '\\n'\n",
    "    \n",
    "parser = MyHTMLParser()\n",
    "parser.feed(html)\n",
    "parser.close()"
   ]
  },
  {
   "cell_type": "code",
   "execution_count": null,
   "id": "9ff263e5",
   "metadata": {},
   "outputs": [],
   "source": [
    "# Detecthtmltags,attributesandattributevalues_Exercise_68\n",
    "from html.parser import HTMLParser   \n",
    "\n",
    "n = int(input())\n",
    "l = []\n",
    "\n",
    "class MyHTMLParser(HTMLParser):\n",
    "    def handle_starttag(self, tag, attributes):\n",
    "        print(tag)   \n",
    "        for i in attributes:\n",
    "            print('->', i[0], '>', i[1])  \n",
    "            \n",
    "    def handle_startendtag(self, tag, attributes):\n",
    "        print(tag)  \n",
    "        for j in attributes:\n",
    "            print('->', j[0], '>', j[1])  \n",
    "            \n",
    "parser = MyHTMLParser()\n",
    "\n",
    "for i in range(n):\n",
    "    parser.feed(input())"
   ]
  },
  {
   "cell_type": "code",
   "execution_count": null,
   "id": "e32786a2",
   "metadata": {},
   "outputs": [],
   "source": [
    "# ValidatingUID_exercise_69\n",
    "import re\n",
    "\n",
    "t = int(input())\n",
    "\n",
    "for i in range(t):\n",
    "    uid = input()\n",
    "    if (uid.isalnum()) and (len(set(uid)) == 10) and bool(re.search(r'(.*[A-Z]){2,}', uid)) and bool(re.search(r'(.*[0-9]){3,}', uid)):  \n",
    "        print('Valid')       \n",
    "    else:            \n",
    "        print('Invalid')  "
   ]
  },
  {
   "cell_type": "code",
   "execution_count": null,
   "id": "3f47182e",
   "metadata": {},
   "outputs": [],
   "source": [
    "# ValidatingCreditCardNumbers_Exercise_70\n",
    "import re\n",
    "\n",
    "n = int(input())\n",
    "\n",
    "for i in range(n):\n",
    "    card = input()\n",
    "    \n",
    "    if len(card)>19:\n",
    "        print('Invalid')\n",
    "    else:    \n",
    "        if re.match(r'^[456]([\\d]{15}|[\\d]{3}(-[\\d]{4}){3})', card) and not re.search(r\"([\\d])(-?\\1){3}\", card):  # I had to ckeck online how not to repet a charachter n times\n",
    "            print('Valid')\n",
    "        else:\n",
    "            print('Invalid')"
   ]
  },
  {
   "cell_type": "code",
   "execution_count": null,
   "id": "6ef59bb0",
   "metadata": {},
   "outputs": [],
   "source": [
    "# ValidatingPostalCodes_Exercise_71\n",
    "regex_integer_in_range = r\"^[1-9]([0-9]{5})$\"\t# Do not delete 'r'.\n",
    "regex_alternating_repetitive_digit_pair = r'(\\d)(?=(.){1}\\1)'\t# Do not delete 'r'.\n",
    "\n",
    "\n",
    "import re\n",
    "P = input()\n",
    "\n",
    "print (bool(re.match(regex_integer_in_range, P)) \n",
    "and len(re.findall(regex_alternating_repetitive_digit_pair, P)) < 2)"
   ]
  },
  {
   "cell_type": "code",
   "execution_count": null,
   "id": "6a2dca03",
   "metadata": {},
   "outputs": [],
   "source": [
    "# MatrixScript_Exercise_72\n",
    "#!/bin/python3\n",
    "\n",
    "import math\n",
    "import os\n",
    "import random\n",
    "import re\n",
    "import sys\n",
    "\n",
    "first_multiple_input = input().rstrip().split()\n",
    "\n",
    "n = int(first_multiple_input[0])\n",
    "\n",
    "m = int(first_multiple_input[1])\n",
    "\n",
    "matrix = []\n",
    "\n",
    "for _ in range(n):\n",
    "    matrix_item = input()\n",
    "    matrix.append(matrix_item)\n",
    "\n",
    "phrase = ''\n",
    "for charachter in zip(*matrix): \n",
    "    phrase += ''.join(charachter)\n",
    "\n",
    "pattern = r'(?<=[A-Za-z0-9])([^A-Za-z0-9]){1,}(?=[A-Za-z0-9])'\n",
    "\n",
    "clean_phrase = re.sub(pattern, ' ', phrase)\n",
    "\n",
    "print(clean_phrase)"
   ]
  },
  {
   "cell_type": "markdown",
   "id": "0243927b",
   "metadata": {},
   "source": [
    "XML"
   ]
  },
  {
   "cell_type": "code",
   "execution_count": null,
   "id": "06c39f9b",
   "metadata": {},
   "outputs": [],
   "source": [
    "# XML1-FindtheScore_Exercise_73\n",
    "import sys\n",
    "import xml.etree.ElementTree as etree\n",
    "\n",
    "def get_attr_number(node):\n",
    "    counter = 0\n",
    "    counter += len(node.attrib)\n",
    "    for element in node:\n",
    "        counter += get_attr_number(element)\n",
    "    return counter\n",
    "    \n",
    "\n",
    "if __name__ == '__main__':\n",
    "    sys.stdin.readline()\n",
    "    xml = sys.stdin.read()\n",
    "    tree = etree.ElementTree(etree.fromstring(xml))\n",
    "    root = tree.getroot()\n",
    "    print(get_attr_number(root))"
   ]
  },
  {
   "cell_type": "code",
   "execution_count": null,
   "id": "6fb24a5e",
   "metadata": {},
   "outputs": [],
   "source": [
    "# XML2-FindtheMaximumDepth_Exercise_74\n",
    "import xml.etree.ElementTree as etree\n",
    "\n",
    "maxdepth = 0\n",
    "def depth(elem, level):\n",
    "    global maxdepth\n",
    "    if level == maxdepth:\n",
    "        maxdepth += 1\n",
    "    for i in elem:\n",
    "        depth(i, level+1)\n",
    "\n",
    "if __name__ == '__main__':\n",
    "    n = int(input())\n",
    "    xml = \"\"\n",
    "    for i in range(n):\n",
    "        xml =  xml + input() + \"\\n\"\n",
    "    tree = etree.ElementTree(etree.fromstring(xml))\n",
    "    depth(tree.getroot(), -1)\n",
    "    print(maxdepth)"
   ]
  },
  {
   "cell_type": "markdown",
   "id": "4ba26abb",
   "metadata": {},
   "source": [
    "Closures and Decorations"
   ]
  },
  {
   "cell_type": "code",
   "execution_count": null,
   "id": "b44413b4",
   "metadata": {},
   "outputs": [],
   "source": [
    "# StandardizeMobileNumberUsingDecorators_Exercise_75\n",
    "def wrapper(f):\n",
    "    def fun(l):\n",
    "        numeri = []\n",
    "        for i in l:\n",
    "            sistemato = \"+91 \"\n",
    "            sistemato = sistemato + i[-10:-5] + \" \" + i[-5:]\n",
    "            numeri.append(sistemato)\n",
    "        numeri.sort()\n",
    "        print(*numeri, sep=\"\\n\")\n",
    "    return fun\n",
    "\n",
    "@wrapper\n",
    "def sort_phone(l):\n",
    "    print(*sorted(l), sep='\\n')\n",
    "\n",
    "if __name__ == '__main__':\n",
    "    l = [input() for _ in range(int(input()))]\n",
    "    sort_phone(l) "
   ]
  },
  {
   "cell_type": "code",
   "execution_count": null,
   "id": "e0a7d575",
   "metadata": {},
   "outputs": [],
   "source": [
    "# Decorators2-NameDirectory_Exercise_76\n",
    "import operator\n",
    "\n",
    "def person_lister(f):\n",
    "    def inner(people):\n",
    "        return map(f, sorted(people, key=lambda age: int(age[2])))\n",
    "    return inner\n",
    "\n",
    "@person_lister\n",
    "def name_format(person):\n",
    "    return (\"Mr. \" if person[3] == \"M\" else \"Ms. \") + person[0] + \" \" + person[1]\n",
    "\n",
    "if __name__ == '__main__':\n",
    "    people = [input().split() for i in range(int(input()))]\n",
    "    print(*name_format(people), sep='\\n')"
   ]
  },
  {
   "cell_type": "markdown",
   "id": "c8dabdaf",
   "metadata": {},
   "source": [
    "Numpy"
   ]
  },
  {
   "cell_type": "code",
   "execution_count": null,
   "id": "3d5a7d7d",
   "metadata": {},
   "outputs": [],
   "source": [
    "# Arrays_Exercise_77\n",
    "import numpy\n",
    "\n",
    "def arrays(arr):\n",
    "    arr = numpy.array(arr, dtype=float)\n",
    "    contrario = []\n",
    "    for i in range(len(arr)-1, -1, -1):\n",
    "        contrario.append(arr[i])\n",
    "    return numpy.array(contrario)\n",
    "\n",
    "arr = input().strip().split(' ')\n",
    "result = arrays(arr)\n",
    "print(result)"
   ]
  },
  {
   "cell_type": "code",
   "execution_count": null,
   "id": "5358a227",
   "metadata": {},
   "outputs": [],
   "source": [
    "# Shape and Reshape_Exercise_78\n",
    "import numpy as np\n",
    "arr = np.array(list(map(int, input().split())))\n",
    "print(np.reshape(arr, (3, 3)))"
   ]
  },
  {
   "cell_type": "code",
   "execution_count": null,
   "id": "308d2416",
   "metadata": {},
   "outputs": [],
   "source": [
    "# Transpose and Flatten_Exercise_79\n",
    "import numpy as np\n",
    "N, M = map(int, (input().split()))\n",
    "matrix = np.array([list(map(int, input().split())) for i in range(N)])\n",
    "print(np.transpose(matrix))\n",
    "print(matrix.flatten())"
   ]
  },
  {
   "cell_type": "code",
   "execution_count": null,
   "id": "c22e857e",
   "metadata": {},
   "outputs": [],
   "source": [
    "# Concatenate_Exercise_80\n",
    "import numpy as np\n",
    "N, M, P = map(int, input().split())\n",
    "arr1 = np.array([list(map(int, input().split())) for i in range(N)])\n",
    "arr2 = np.array([list(map(int, input().split())) for i in range(M)])\n",
    "print(np.concatenate((arr1, arr2), axis=0))\n"
   ]
  },
  {
   "cell_type": "code",
   "execution_count": null,
   "id": "a44b4bfe",
   "metadata": {},
   "outputs": [],
   "source": [
    "# ZerosAndOnes_Exercise_81\n",
    "import numpy\n",
    "dim = list(map(int, input().split()))\n",
    "print(numpy.zeros((dim), dtype=int))\n",
    "print(numpy.ones((dim), dtype=int))"
   ]
  },
  {
   "cell_type": "code",
   "execution_count": null,
   "id": "7c3dc190",
   "metadata": {},
   "outputs": [],
   "source": [
    "# EyeAndIdentity_Exercise_82\n",
    "import numpy\n",
    "numpy.set_printoptions(legacy='1.13')\n",
    "N, M = map(int, input().split())\n",
    "print(numpy.eye(N, M, 0))"
   ]
  },
  {
   "cell_type": "code",
   "execution_count": null,
   "id": "f9eea0cb",
   "metadata": {},
   "outputs": [],
   "source": [
    "# ArrayMathematics_Exercise_83\n",
    "import numpy as np\n",
    "N, M = map(int, input().split())\n",
    "A = np.array([list(map(int, input().split())) for i in range(N)])\n",
    "B = np.array([list(map(int, input().split())) for i in range(N)])\n",
    "print(np.add(A, B))\n",
    "print(np.subtract(A, B))\n",
    "print(np.multiply(A, B))\n",
    "print(np.floor_divide(A, B))\n",
    "print(np.mod(A, B))\n",
    "print(np.power(A, B))\n"
   ]
  },
  {
   "cell_type": "code",
   "execution_count": null,
   "id": "8a12d30c",
   "metadata": {},
   "outputs": [],
   "source": [
    "# FloorCeilRint_Exercise_84\n",
    "import numpy as np\n",
    "np.set_printoptions(sign=\" \")\n",
    "A = np.array(list(map(float, input().split())))\n",
    "print(np.floor(A))\n",
    "print(np.ceil(A))\n",
    "print(np.rint(A))"
   ]
  },
  {
   "cell_type": "code",
   "execution_count": null,
   "id": "5e57bdf4",
   "metadata": {},
   "outputs": [],
   "source": [
    "# SumandProd_Exercise_85\n",
    "import numpy as np\n",
    "N, M = map(int, input().split())\n",
    "A = np.array([list(map(int, input().split())) for i in range(N)])\n",
    "print(np.prod(np.sum(A, axis=0)))"
   ]
  },
  {
   "cell_type": "code",
   "execution_count": null,
   "id": "4388e26c",
   "metadata": {},
   "outputs": [],
   "source": [
    "# MinandMax_Exercise_86\n",
    "import numpy as np\n",
    "N, M = map(int, input().split())\n",
    "A = np.array([list(map(int, input().split())) for i in range(N)])\n",
    "print(np.max(np.min(A, axis=1)))"
   ]
  },
  {
   "cell_type": "code",
   "execution_count": null,
   "id": "df964958",
   "metadata": {},
   "outputs": [],
   "source": [
    "# Mean, Var, and Std_Exercise_87\n",
    "import numpy as np\n",
    "N, M = map(int, (input().split()))\n",
    "ar = []\n",
    "for i in range(N):\n",
    "    ar.append(list(map(int, input().split())))\n",
    "ar = np.array(ar)\n",
    "print(np.mean(ar, axis=1))\n",
    "print(np.var(ar, axis=0))\n",
    "print(round(np.std(ar), 11))\n"
   ]
  },
  {
   "cell_type": "code",
   "execution_count": null,
   "id": "5fcd3813",
   "metadata": {},
   "outputs": [],
   "source": [
    "# Dot and Cross_Exercise_88\n",
    "import numpy as np\n",
    "N = int(input())\n",
    "A = []\n",
    "B = []\n",
    "for i in range(N):\n",
    "    A.append(list(map(int, input().split())))\n",
    "for i in range(N):\n",
    "    B.append(list(map(int, input().split())))\n",
    "A = np.array(A)\n",
    "B = np.array(B)\n",
    "print(np.dot(A, B))\n"
   ]
  },
  {
   "cell_type": "code",
   "execution_count": null,
   "id": "62e86654",
   "metadata": {},
   "outputs": [],
   "source": [
    "# Inner and Outer_Exercise_89\n",
    "A = np.array(input().split(), dtype=int)\n",
    "B = np.array(input().split(), dtype=int)\n",
    "print(np.inner(A, B))\n",
    "print(np.outer(A, B))\n"
   ]
  },
  {
   "cell_type": "code",
   "execution_count": null,
   "id": "aba3ebfa",
   "metadata": {},
   "outputs": [],
   "source": [
    "# Polynomials_Exercise_90\n",
    "import numpy as np\n",
    "pol = np.array(input().split(), dtype=float)\n",
    "x = float(input())\n",
    "print(np.polyval(pol, x))"
   ]
  },
  {
   "cell_type": "code",
   "execution_count": null,
   "id": "4ca7214f",
   "metadata": {},
   "outputs": [],
   "source": [
    "# Linear Algebra_Exercise_91\n",
    "import numpy as np\n",
    "N = int(input())\n",
    "A = []\n",
    "for _ in range(N):\n",
    "    A.append(list(map(float, input().split())))\n",
    "A = np.array(A)\n",
    "print(round(np.linalg.det(A), 2))"
   ]
  }
 ],
 "metadata": {
  "kernelspec": {
   "display_name": "Python 3 (ipykernel)",
   "language": "python",
   "name": "python3"
  },
  "language_info": {
   "codemirror_mode": {
    "name": "ipython",
    "version": 3
   },
   "file_extension": ".py",
   "mimetype": "text/x-python",
   "name": "python",
   "nbconvert_exporter": "python",
   "pygments_lexer": "ipython3",
   "version": "3.11.3"
  }
 },
 "nbformat": 4,
 "nbformat_minor": 5
}
